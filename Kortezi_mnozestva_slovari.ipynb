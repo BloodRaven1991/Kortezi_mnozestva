{
 "cells": [
  {
   "cell_type": "markdown",
   "metadata": {},
   "source": [
    "Задание 1\n",
    "Есть три кортежа целых чисел необходимо найти\n",
    "элементы, которые есть во всех кортежах.\n"
   ]
  },
  {
   "cell_type": "code",
   "execution_count": 2,
   "metadata": {},
   "outputs": [
    {
     "name": "stdout",
     "output_type": "stream",
     "text": [
      "Общие элементы: (3, 5)\n"
     ]
    }
   ],
   "source": [
    "a = (1, 2, 3, 4, 5)\n",
    "b = (3, 4, 5, 6, 7)\n",
    "c = (5, 6, 7, 1, 3)\n",
    "\n",
    "com_elem = set(a) & set(b) & set(c)\n",
    "\n",
    "com_t = tuple(com_elem)\n",
    "\n",
    "print(\"Общие элементы:\", com_t)"
   ]
  },
  {
   "cell_type": "markdown",
   "metadata": {},
   "source": [
    "Задание 2\n",
    "Есть три кортежа целых чисел необходимо найти\n",
    "элементы, которые уникальны для каждого списка."
   ]
  },
  {
   "cell_type": "code",
   "execution_count": 7,
   "metadata": {},
   "outputs": [
    {
     "name": "stdout",
     "output_type": "stream",
     "text": [
      "Элементы, уникальные для первого кортежа: (1, 2)\n",
      "Элементы, уникальные для второго кортежа: (10,)\n",
      "Элементы, уникальные для третьего кортежа: (8, 9)\n"
     ]
    }
   ],
   "source": [
    "t1 = (1, 2, 3, 4, 5)\n",
    "t2 = (3, 4, 10, 6, 7)\n",
    "t3 = (5, 6, 7, 8, 9)\n",
    "\n",
    "\n",
    "set1 = set(t1)\n",
    "set2 = set(t2)\n",
    "set3 = set(t3)\n",
    "\n",
    "\n",
    "uniq_t1 = set1 - set2 - set3\n",
    "uniq_t2 = set2 - set1 - set3\n",
    "uniq_t3 = set3 - set1 - set2\n",
    "\n",
    "\n",
    "unique1 = tuple(uniq_t1)\n",
    "unique2 = tuple(uniq_t2)\n",
    "unique3 = tuple(uniq_t3)\n",
    "\n",
    "\n",
    "print(\"Элементы, уникальные для первого кортежа:\", unique1)\n",
    "print(\"Элементы, уникальные для второго кортежа:\", unique2)\n",
    "print(\"Элементы, уникальные для третьего кортежа:\", unique3)"
   ]
  },
  {
   "cell_type": "markdown",
   "metadata": {},
   "source": [
    "Задание 3\n",
    "Есть три кортежа целых чисел необходимо найти элементы, которые есть в каждом из кортежей и находятся\n",
    "в каждом из кортежей на той же позиции."
   ]
  },
  {
   "cell_type": "code",
   "execution_count": 5,
   "metadata": {},
   "outputs": [
    {
     "name": "stdout",
     "output_type": "stream",
     "text": [
      "Элементы, которые есть в каждом из кортежей на одной и той же позиции: [3, 20]\n"
     ]
    }
   ],
   "source": [
    "t4 = (8, 3, 9, 11, 20)\n",
    "t5 = (6, 3, 12, 4, 20)\n",
    "t6 = (10, 3, 5, 8, 20)\n",
    "\n",
    "\n",
    "com_elem1 = [value for value in zip(t4, t5, t6) if value[0] == value[1] == value[2]]\n",
    "\n",
    "\n",
    "com_pos = [value[0] for value in com_elem1]\n",
    "\n",
    "\n",
    "print(\"Элементы, которые есть в каждом из кортежей на одной и той же позиции:\", com_pos)"
   ]
  }
 ],
 "metadata": {
  "kernelspec": {
   "display_name": "Python 3",
   "language": "python",
   "name": "python3"
  },
  "language_info": {
   "codemirror_mode": {
    "name": "ipython",
    "version": 3
   },
   "file_extension": ".py",
   "mimetype": "text/x-python",
   "name": "python",
   "nbconvert_exporter": "python",
   "pygments_lexer": "ipython3",
   "version": "3.12.6"
  }
 },
 "nbformat": 4,
 "nbformat_minor": 2
}
